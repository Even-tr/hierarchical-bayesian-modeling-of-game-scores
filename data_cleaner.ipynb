{
 "cells": [
  {
   "cell_type": "markdown",
   "metadata": {},
   "source": [
    "# Cleans and formats the raw data"
   ]
  },
  {
   "cell_type": "code",
   "execution_count": 2,
   "metadata": {},
   "outputs": [],
   "source": [
    "import pandas as pd\n",
    "from datetime import datetime\n",
    "\n",
    "data = pd.read_excel('Timeguessr_leaderboards_2.xlsx') \n",
    "data.to_csv('timeguessr.csv')\n",
    "#data = pd.read_csv('timeguessr.csv', index_col=0)\n",
    "# one column did not have a date, impute with guess\n",
    "date_string = '2024-08-03 00:00:00'\n",
    "data = data.rename(columns={'Unnamed: 36':  datetime.strptime(date_string, \"%Y-%m-%d %H:%M:%S\")})\n",
    "\n",
    "columns = []\n",
    "min_samples_to_keep = 1 # number of samples per day to keep.\n",
    "for i in data.columns:\n",
    "    if data[i].isna().sum() + min_samples_to_keep - 1 < len(data[i]): # skip days with to few observations\n",
    "        columns.append(i)\n",
    "\n",
    "new_format_date = datetime.strptime('2024-07-19 00:00:00', \"%Y-%m-%d %H:%M:%S\") # format changed after this date\n",
    "for c in columns[1:]:\n",
    "    if c > new_format_date:\n",
    "        data[c] = data[c]*1_000\n",
    "\n",
    "data = data[columns]\n",
    "dataT = data.T\n",
    "dataT.columns = dataT.iloc[0]\n",
    "dataT.drop('Deltaker', inplace=True)\n",
    "dates = [i.strftime('%m/%d') for i in dataT.T.columns] # make date format more readable\n",
    "\n",
    "dataT.index = dates\n",
    "dataT.values[dataT.values>50_000] = dataT.values[dataT.values>50_000]/1_000 # some inconsistent formating\n",
    "\n",
    "# save data\n",
    "dataT.to_csv('timeguessr_leaderboards_cleaned.csv')"
   ]
  }
 ],
 "metadata": {
  "kernelspec": {
   "display_name": "base",
   "language": "python",
   "name": "python3"
  },
  "language_info": {
   "codemirror_mode": {
    "name": "ipython",
    "version": 3
   },
   "file_extension": ".py",
   "mimetype": "text/x-python",
   "name": "python",
   "nbconvert_exporter": "python",
   "pygments_lexer": "ipython3",
   "version": "3.12.2"
  }
 },
 "nbformat": 4,
 "nbformat_minor": 2
}
